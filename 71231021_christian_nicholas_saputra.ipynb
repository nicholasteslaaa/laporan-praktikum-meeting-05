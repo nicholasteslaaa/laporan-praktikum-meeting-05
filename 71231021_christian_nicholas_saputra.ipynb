{
 "cells": [
  {
   "cell_type": "markdown",
   "id": "33a830cb",
   "metadata": {},
   "source": [
    "latihan 1"
   ]
  },
  {
   "cell_type": "code",
   "execution_count": 2,
   "id": "46177e9e-39ce-4cab-a4ea-f16782ad2241",
   "metadata": {},
   "outputs": [
    {
     "name": "stdout",
     "output_type": "stream",
     "text": [
      "30\n",
      "70\n"
     ]
    }
   ],
   "source": [
    "# buat fungsi untuk menempatkan program\n",
    "def kali(a,b): # gunakan parameter untuk mengambil value dari input\n",
    "    \n",
    "    result = 0 #set nilai awal\n",
    "    \n",
    "    for i in range(a): # ulangi sampai i mencapai nilai a\n",
    "        result+=b # tambah nilai b ke variabel result\n",
    "        \n",
    "    return result # keluarkan value dari fungsi\n",
    "\n",
    "print(kali(6,5)) #input+output\n",
    "print(kali(7,10))   #input+output"
   ]
  },
  {
   "cell_type": "markdown",
   "id": "51f98978",
   "metadata": {},
   "source": [
    "latihan 2"
   ]
  },
  {
   "cell_type": "code",
   "execution_count": 4,
   "id": "7eab0089",
   "metadata": {},
   "outputs": [
    {
     "name": "stdout",
     "output_type": "stream",
     "text": [
      "11 13 15 17 19 21 23 25 27 29 \n",
      "\n",
      "97 95 93 91 89 87 85 83 "
     ]
    }
   ],
   "source": [
    "# buat fungsi untuk menempatkan program\n",
    "def ganjil(batas_bawah,batas_atas):\n",
    "    \n",
    "    # kemungkinan jika batas bawah > batas_atas\n",
    "    if batas_bawah > batas_atas:\n",
    "        \n",
    "        # mengulang program dari batas bawah sampai atas secara mundur\n",
    "        for i in range(batas_bawah,batas_atas, -1):\n",
    "            # syarat untuk ke output adalah i / 2 = sisa 1\n",
    "            if i % 2 == 1:\n",
    "                # output\n",
    "                print(i, end=\" \")\n",
    "                \n",
    "    # kemungkinan selain kemungkinan diatas\n",
    "    else:\n",
    "         # mengulang program dari batas bawah sampai atas secara urut\n",
    "        for i in range(batas_bawah,batas_atas+1):\n",
    "            # syarat untuk ke output adalah i / 2 = sisa 1\n",
    "            if i % 2 == 1:\n",
    "                # output\n",
    "                print(i, end=\" \")\n",
    "        \n",
    "ganjil(10,30) # memanggil fungsi(output 2)\n",
    "print(\"\\n\")\n",
    "ganjil(97,82) # memanggil fungsi(output 1)"
   ]
  },
  {
   "cell_type": "markdown",
   "id": "0de44efe",
   "metadata": {},
   "source": [
    "latihan 3"
   ]
  },
  {
   "cell_type": "code",
   "execution_count": 3,
   "id": "7a0eeda0",
   "metadata": {},
   "outputs": [
    {
     "name": "stdout",
     "output_type": "stream",
     "text": [
      "masukan nilai mata kuliah dalam bentuk huruf: \n",
      "matkul 1:  A\n",
      "matkul 2:  B\n",
      "matkul 3:  C\n",
      "matkul 4:  A\n",
      "matkul 5:  D\n",
      "matkul 6:  C\n",
      "IPS anda adalah: 2.67\n"
     ]
    }
   ],
   "source": [
    "def hitung_ips(jumlah_matkul):\n",
    "    # total nilai yang akan di tambahkan saat user memasukan nilainya\n",
    "    total = 0\n",
    "    # \n",
    "    i = 1\n",
    "    # perulangan while true, akan mengulang selama kondisi belum break\n",
    "    while True:\n",
    "        # instruksi untuk user\n",
    "        print(\"masukan nilai mata kuliah dalam bentuk huruf: \")\n",
    "        \n",
    "        # jika i masih kurang dari variabel jumlah matkul, jalankan code dibawah\n",
    "        while i <= jumlah_matkul:\n",
    "            \n",
    "            # input untuk user memasukan nilainya\n",
    "            nilai_matkul = str(input(f\"masukan nilai matkul {i}: \"))\n",
    "            \n",
    "            # jika nilai user A\n",
    "            if nilai_matkul == \"A\":\n",
    "                # maka tampilkan ini:\n",
    "                print(f\"matkul {i}: \", nilai_matkul)\n",
    "                # tambah variabel total sebesar 4\n",
    "                total += 4\n",
    "                # menambah i agar berhenti setelah mencapai jumlah matkul\n",
    "                i+=1\n",
    "            elif nilai_matkul == \"B\":\n",
    "                print(f\"matkul {i}: \", nilai_matkul)\n",
    "                total += 3\n",
    "                # menambah i agar berhenti setelah mencapai jumlah matkul\n",
    "                i+=1\n",
    "            elif nilai_matkul == \"C\":\n",
    "                print(f\"matkul {i}: \", nilai_matkul)\n",
    "                total += 2\n",
    "                i+=1\n",
    "            elif nilai_matkul == \"D\":\n",
    "                print(f\"matkul {i}: \", nilai_matkul)\n",
    "                total += 1\n",
    "                # menambah i agar berhenti setelah mencapai jumlah matkul\n",
    "                i+=1\n",
    "            # jika user menginputkan kata \"done\"\n",
    "            elif nilai_matkul == \"done\": \n",
    "                # maka akhiri loop\n",
    "                break\n",
    "        # kalkulasi total nilainya\n",
    "        total_akhir = float((total*3)/(3*jumlah_matkul))\n",
    "        # dan tampilkan hasilnya\n",
    "        print(\"IPS anda adalah: %.2f\" % total_akhir)\n",
    "        # berhenti\n",
    "        break\n",
    "\n",
    "# input\n",
    "jumlah_matkul = int(input(\"masukan jumlah mata kuliah: \"))\n",
    "\n",
    "#memanggil fungsi\n",
    "hitung_ips(jumlah_matkul)"
   ]
  }
 ],
 "metadata": {
  "kernelspec": {
   "display_name": "Python 3 (ipykernel)",
   "language": "python",
   "name": "python3"
  },
  "language_info": {
   "codemirror_mode": {
    "name": "ipython",
    "version": 3
   },
   "file_extension": ".py",
   "mimetype": "text/x-python",
   "name": "python",
   "nbconvert_exporter": "python",
   "pygments_lexer": "ipython3",
   "version": "3.12.1"
  }
 },
 "nbformat": 4,
 "nbformat_minor": 5
}
